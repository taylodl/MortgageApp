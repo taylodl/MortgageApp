{
 "cells": [
  {
   "cell_type": "code",
   "execution_count": 77,
   "id": "584cbce8-f5d9-4e7d-ad73-f28d567a830b",
   "metadata": {},
   "outputs": [],
   "source": [
    "def create_loan_payment_data(months, principal, interest_rate) :\n",
    "    # Validate inputs\n",
    "    if (not isinstance(months, int) or months < 1) :\n",
    "        return {\"error\" : \"months must be a whole number >= 1\"}\n",
    "    if (not (principal > 0)) :\n",
    "        return {\"error\" : \"principal must be greater than 0\"} \n",
    "    if (not (interest_rate > 0)) :\n",
    "        return {\"error\" : \"interest rate must be greater than 0\"}\n",
    "\n",
    "    # Initialize our data to return\n",
    "    ReturnedData = {}\n",
    "    LoanData = {\"Monthly Payment\" : 0, \"Payments\" : 0, \"Total Interest\" : 0, \"Total Loan Cost\" : 0}\n",
    "    PaymentData = []\n",
    "\n",
    "    # Preliminary calculations to get us started\n",
    "\n",
    "    # The interest rate given is APY, we need to turn to an actual percentage and divide by 12 to get a monthly percentage\n",
    "    monthly_rate = interest_rate / 100 / 12\n",
    "\n",
    "    # This is the formula provided by the client to calculate the monthly payment\n",
    "    monthly_payment = principal * (rate * (1 + rate) ** months) / ((1 + rate) ** months -1 )\n",
    "\n",
    "    # We're dealing with currency so the payment needs to be expressed as $00.00\n",
    "    monthly_payment = round(monthly_payment, 2)\n",
    "\n",
    "    # Initialize these values\n",
    "    total_interest_paid = 0\n",
    "    total_loan_cost = 0\n",
    "    remaining_loan_balance = principal\n",
    "\n",
    "    # Now let's go through the months\n",
    "    for month in range(1, months + 1) :\n",
    "        monthly_interest = round(remaining_loan_balance * monthly_rate,2)\n",
    "        monthly_principal = round(monthly_payment - monthly_interest,2)\n",
    "        remaining_loan_balance -= monthly_principal\n",
    "        total_interest_paid += monthly_interest\n",
    "        total_loan_cost += monthly_payment\n",
    "        PaymentData.append({\"Month\" : month, \n",
    "                         \"Beginning Balance\" : remaining_loan_balance + monthly_payment, \n",
    "                         \"Payment\" : monthly_payment,\n",
    "                         \"Principal\" : monthly_principal,\n",
    "                         \"Interest\" : monthly_interest,\n",
    "                         \"Ending Balance\" : remaining_loan_balance})\n",
    "\n",
    "    # Now let's package the results\n",
    "    LoanData[\"Monthly Payment\"] = monthly_payment\n",
    "    LoanData[\"Payments\"] = months\n",
    "    LoanData[\"Total Interest\"] = total_interest_paid\n",
    "    LoanData[\"Total Loan Cost\"] = total_loan_cost\n",
    "\n",
    "    ReturnedData = {\"Loan Data\" : LoanData, \"Payment Data\" : PaymentData}\n",
    "\n",
    "    return ReturnedData\n",
    "\n"
   ]
  },
  {
   "cell_type": "code",
   "execution_count": 18,
   "id": "58518b3e-fac0-49cd-8032-340f0c2b4bf2",
   "metadata": {},
   "outputs": [
    {
     "name": "stdout",
     "output_type": "stream",
     "text": [
      "{'error': 'months must be a whole number >= 1'}\n"
     ]
    }
   ],
   "source": [
    "# Boundary Test - months is not a whole number\n",
    "print(create_loan_payment_data(60.5, 50000, 2.5))"
   ]
  },
  {
   "cell_type": "code",
   "execution_count": 19,
   "id": "508cc1bf-68f6-42c3-9caf-c10c8a289349",
   "metadata": {},
   "outputs": [
    {
     "name": "stdout",
     "output_type": "stream",
     "text": [
      "{'error': 'months must be a whole number >= 1'}\n"
     ]
    }
   ],
   "source": [
    "# Boundary Test - months is < 0\n",
    "print(create_loan_payment_data(-60, 50000, 2.5))"
   ]
  },
  {
   "cell_type": "code",
   "execution_count": 20,
   "id": "74d534bb-22fd-474b-96a3-4e8d67658e95",
   "metadata": {},
   "outputs": [
    {
     "name": "stdout",
     "output_type": "stream",
     "text": [
      "{'error': 'months must be a whole number >= 1'}\n"
     ]
    }
   ],
   "source": [
    "# Boundary Test - months is < 0 and not an int\n",
    "print(create_loan_payment_data(-60.5, 50000, 2.5))"
   ]
  },
  {
   "cell_type": "code",
   "execution_count": 22,
   "id": "9dc92ddd-f61d-40f6-8d06-93b7a3224d34",
   "metadata": {},
   "outputs": [
    {
     "name": "stdout",
     "output_type": "stream",
     "text": [
      "{'Loan Data': {'Monthly Payment': 0, 'Payments': 0, 'Total Interest': 0, 'Total Loan Cost': 0}, 'Payment Data': {}}\n"
     ]
    }
   ],
   "source": [
    "# Boundary Test - months is equal to 1 - this should be valid\n",
    "print(create_loan_payment_data(1, 50000, 2.5))"
   ]
  },
  {
   "cell_type": "code",
   "execution_count": 23,
   "id": "128954d1-7fb1-47e8-ab28-5822e6345043",
   "metadata": {},
   "outputs": [
    {
     "name": "stdout",
     "output_type": "stream",
     "text": [
      "{'error': 'interest rate must be greater than 0'}\n"
     ]
    }
   ],
   "source": [
    "# Boundary Test - principal is < 0\n",
    "print(create_loan_payment_data(1, 50000, -2.5))"
   ]
  },
  {
   "cell_type": "code",
   "execution_count": 25,
   "id": "b4ec976d-637b-46fc-8864-16451d8a7c60",
   "metadata": {},
   "outputs": [
    {
     "name": "stdout",
     "output_type": "stream",
     "text": [
      "{'error': 'principal must be greater than 0'}\n"
     ]
    }
   ],
   "source": [
    "# Boundary Test - principal is 0\n",
    "print(create_loan_payment_data(60, 0, 2.5))"
   ]
  },
  {
   "cell_type": "code",
   "execution_count": 44,
   "id": "addcf076-fdeb-4ce0-aa63-aff37b0e3447",
   "metadata": {},
   "outputs": [
    {
     "name": "stdout",
     "output_type": "stream",
     "text": [
      "{'error': 'interest rate must be greater than 0'}\n"
     ]
    }
   ],
   "source": [
    "# Boundary Test - interest is 0 \n",
    "print(create_loan_payment_data(60, 50000, 0))"
   ]
  },
  {
   "cell_type": "code",
   "execution_count": 78,
   "id": "65fd3042-3978-4cdb-b310-d57a952855a8",
   "metadata": {},
   "outputs": [
    {
     "name": "stdout",
     "output_type": "stream",
     "text": [
      "{'Loan Data': {'Monthly Payment': 95.51, 'Payments': 60, 'Total Interest': 730.3299999999999, 'Total Loan Cost': 5730.600000000009}, 'Payment Data': [{'Month': 1, 'Beginning Balance': 5022.92, 'Payment': 95.51, 'Principal': 72.59, 'Interest': 22.92, 'Ending Balance': 4927.41}, {'Month': 2, 'Beginning Balance': 4949.99, 'Payment': 95.51, 'Principal': 72.93, 'Interest': 22.58, 'Ending Balance': 4854.48}, {'Month': 3, 'Beginning Balance': 4876.73, 'Payment': 95.51, 'Principal': 73.26, 'Interest': 22.25, 'Ending Balance': 4781.219999999999}, {'Month': 4, 'Beginning Balance': 4803.129999999999, 'Payment': 95.51, 'Principal': 73.6, 'Interest': 21.91, 'Ending Balance': 4707.619999999999}, {'Month': 5, 'Beginning Balance': 4729.199999999999, 'Payment': 95.51, 'Principal': 73.93, 'Interest': 21.58, 'Ending Balance': 4633.689999999999}, {'Month': 6, 'Beginning Balance': 4654.9299999999985, 'Payment': 95.51, 'Principal': 74.27, 'Interest': 21.24, 'Ending Balance': 4559.419999999998}, {'Month': 7, 'Beginning Balance': 4580.319999999999, 'Payment': 95.51, 'Principal': 74.61, 'Interest': 20.9, 'Ending Balance': 4484.809999999999}, {'Month': 8, 'Beginning Balance': 4505.369999999999, 'Payment': 95.51, 'Principal': 74.95, 'Interest': 20.56, 'Ending Balance': 4409.859999999999}, {'Month': 9, 'Beginning Balance': 4430.069999999999, 'Payment': 95.51, 'Principal': 75.3, 'Interest': 20.21, 'Ending Balance': 4334.559999999999}, {'Month': 10, 'Beginning Balance': 4354.4299999999985, 'Payment': 95.51, 'Principal': 75.64, 'Interest': 19.87, 'Ending Balance': 4258.919999999998}, {'Month': 11, 'Beginning Balance': 4278.439999999999, 'Payment': 95.51, 'Principal': 75.99, 'Interest': 19.52, 'Ending Balance': 4182.9299999999985}, {'Month': 12, 'Beginning Balance': 4202.0999999999985, 'Payment': 95.51, 'Principal': 76.34, 'Interest': 19.17, 'Ending Balance': 4106.589999999998}, {'Month': 13, 'Beginning Balance': 4125.409999999998, 'Payment': 95.51, 'Principal': 76.69, 'Interest': 18.82, 'Ending Balance': 4029.8999999999983}, {'Month': 14, 'Beginning Balance': 4048.3699999999985, 'Payment': 95.51, 'Principal': 77.04, 'Interest': 18.47, 'Ending Balance': 3952.8599999999983}, {'Month': 15, 'Beginning Balance': 3970.9799999999987, 'Payment': 95.51, 'Principal': 77.39, 'Interest': 18.12, 'Ending Balance': 3875.4699999999984}, {'Month': 16, 'Beginning Balance': 3893.2299999999987, 'Payment': 95.51, 'Principal': 77.75, 'Interest': 17.76, 'Ending Balance': 3797.7199999999984}, {'Month': 17, 'Beginning Balance': 3815.1299999999987, 'Payment': 95.51, 'Principal': 78.1, 'Interest': 17.41, 'Ending Balance': 3719.6199999999985}, {'Month': 18, 'Beginning Balance': 3736.6699999999987, 'Payment': 95.51, 'Principal': 78.46, 'Interest': 17.05, 'Ending Balance': 3641.1599999999985}, {'Month': 19, 'Beginning Balance': 3657.8499999999985, 'Payment': 95.51, 'Principal': 78.82, 'Interest': 16.69, 'Ending Balance': 3562.3399999999983}, {'Month': 20, 'Beginning Balance': 3578.6699999999987, 'Payment': 95.51, 'Principal': 79.18, 'Interest': 16.33, 'Ending Balance': 3483.1599999999985}, {'Month': 21, 'Beginning Balance': 3499.1199999999985, 'Payment': 95.51, 'Principal': 79.55, 'Interest': 15.96, 'Ending Balance': 3403.6099999999983}, {'Month': 22, 'Beginning Balance': 3419.2099999999987, 'Payment': 95.51, 'Principal': 79.91, 'Interest': 15.6, 'Ending Balance': 3323.6999999999985}, {'Month': 23, 'Beginning Balance': 3338.9299999999985, 'Payment': 95.51, 'Principal': 80.28, 'Interest': 15.23, 'Ending Balance': 3243.4199999999983}, {'Month': 24, 'Beginning Balance': 3258.2899999999986, 'Payment': 95.51, 'Principal': 80.64, 'Interest': 14.87, 'Ending Balance': 3162.7799999999984}, {'Month': 25, 'Beginning Balance': 3177.2799999999984, 'Payment': 95.51, 'Principal': 81.01, 'Interest': 14.5, 'Ending Balance': 3081.769999999998}, {'Month': 26, 'Beginning Balance': 3095.8899999999985, 'Payment': 95.51, 'Principal': 81.39, 'Interest': 14.12, 'Ending Balance': 3000.3799999999983}, {'Month': 27, 'Beginning Balance': 3014.1299999999983, 'Payment': 95.51, 'Principal': 81.76, 'Interest': 13.75, 'Ending Balance': 2918.619999999998}, {'Month': 28, 'Beginning Balance': 2931.999999999998, 'Payment': 95.51, 'Principal': 82.13, 'Interest': 13.38, 'Ending Balance': 2836.489999999998}, {'Month': 29, 'Beginning Balance': 2849.489999999998, 'Payment': 95.51, 'Principal': 82.51, 'Interest': 13.0, 'Ending Balance': 2753.9799999999977}, {'Month': 30, 'Beginning Balance': 2766.599999999998, 'Payment': 95.51, 'Principal': 82.89, 'Interest': 12.62, 'Ending Balance': 2671.089999999998}, {'Month': 31, 'Beginning Balance': 2683.329999999998, 'Payment': 95.51, 'Principal': 83.27, 'Interest': 12.24, 'Ending Balance': 2587.819999999998}, {'Month': 32, 'Beginning Balance': 2599.679999999998, 'Payment': 95.51, 'Principal': 83.65, 'Interest': 11.86, 'Ending Balance': 2504.169999999998}, {'Month': 33, 'Beginning Balance': 2515.649999999998, 'Payment': 95.51, 'Principal': 84.03, 'Interest': 11.48, 'Ending Balance': 2420.1399999999976}, {'Month': 34, 'Beginning Balance': 2431.2299999999977, 'Payment': 95.51, 'Principal': 84.42, 'Interest': 11.09, 'Ending Balance': 2335.7199999999975}, {'Month': 35, 'Beginning Balance': 2346.4299999999976, 'Payment': 95.51, 'Principal': 84.8, 'Interest': 10.71, 'Ending Balance': 2250.9199999999973}, {'Month': 36, 'Beginning Balance': 2261.2399999999975, 'Payment': 95.51, 'Principal': 85.19, 'Interest': 10.32, 'Ending Balance': 2165.7299999999973}, {'Month': 37, 'Beginning Balance': 2175.6599999999976, 'Payment': 95.51, 'Principal': 85.58, 'Interest': 9.93, 'Ending Balance': 2080.1499999999974}, {'Month': 38, 'Beginning Balance': 2089.6799999999976, 'Payment': 95.51, 'Principal': 85.98, 'Interest': 9.53, 'Ending Balance': 1994.1699999999973}, {'Month': 39, 'Beginning Balance': 2003.3099999999974, 'Payment': 95.51, 'Principal': 86.37, 'Interest': 9.14, 'Ending Balance': 1907.7999999999975}, {'Month': 40, 'Beginning Balance': 1916.5399999999975, 'Payment': 95.51, 'Principal': 86.77, 'Interest': 8.74, 'Ending Balance': 1821.0299999999975}, {'Month': 41, 'Beginning Balance': 1829.3799999999974, 'Payment': 95.51, 'Principal': 87.16, 'Interest': 8.35, 'Ending Balance': 1733.8699999999974}, {'Month': 42, 'Beginning Balance': 1741.8199999999974, 'Payment': 95.51, 'Principal': 87.56, 'Interest': 7.95, 'Ending Balance': 1646.3099999999974}, {'Month': 43, 'Beginning Balance': 1653.8599999999974, 'Payment': 95.51, 'Principal': 87.96, 'Interest': 7.55, 'Ending Balance': 1558.3499999999974}, {'Month': 44, 'Beginning Balance': 1565.4899999999973, 'Payment': 95.51, 'Principal': 88.37, 'Interest': 7.14, 'Ending Balance': 1469.9799999999973}, {'Month': 45, 'Beginning Balance': 1476.7199999999973, 'Payment': 95.51, 'Principal': 88.77, 'Interest': 6.74, 'Ending Balance': 1381.2099999999973}, {'Month': 46, 'Beginning Balance': 1387.5399999999972, 'Payment': 95.51, 'Principal': 89.18, 'Interest': 6.33, 'Ending Balance': 1292.0299999999972}, {'Month': 47, 'Beginning Balance': 1297.9499999999973, 'Payment': 95.51, 'Principal': 89.59, 'Interest': 5.92, 'Ending Balance': 1202.4399999999973}, {'Month': 48, 'Beginning Balance': 1207.9499999999973, 'Payment': 95.51, 'Principal': 90.0, 'Interest': 5.51, 'Ending Balance': 1112.4399999999973}, {'Month': 49, 'Beginning Balance': 1117.5399999999975, 'Payment': 95.51, 'Principal': 90.41, 'Interest': 5.1, 'Ending Balance': 1022.0299999999974}, {'Month': 50, 'Beginning Balance': 1026.7099999999973, 'Payment': 95.51, 'Principal': 90.83, 'Interest': 4.68, 'Ending Balance': 931.1999999999973}, {'Month': 51, 'Beginning Balance': 935.4699999999973, 'Payment': 95.51, 'Principal': 91.24, 'Interest': 4.27, 'Ending Balance': 839.9599999999973}, {'Month': 52, 'Beginning Balance': 843.8099999999973, 'Payment': 95.51, 'Principal': 91.66, 'Interest': 3.85, 'Ending Balance': 748.2999999999973}, {'Month': 53, 'Beginning Balance': 751.7299999999973, 'Payment': 95.51, 'Principal': 92.08, 'Interest': 3.43, 'Ending Balance': 656.2199999999973}, {'Month': 54, 'Beginning Balance': 659.2299999999973, 'Payment': 95.51, 'Principal': 92.5, 'Interest': 3.01, 'Ending Balance': 563.7199999999973}, {'Month': 55, 'Beginning Balance': 566.2999999999973, 'Payment': 95.51, 'Principal': 92.93, 'Interest': 2.58, 'Ending Balance': 470.7899999999973}, {'Month': 56, 'Beginning Balance': 472.9499999999973, 'Payment': 95.51, 'Principal': 93.35, 'Interest': 2.16, 'Ending Balance': 377.4399999999973}, {'Month': 57, 'Beginning Balance': 379.16999999999734, 'Payment': 95.51, 'Principal': 93.78, 'Interest': 1.73, 'Ending Balance': 283.65999999999735}, {'Month': 58, 'Beginning Balance': 284.95999999999736, 'Payment': 95.51, 'Principal': 94.21, 'Interest': 1.3, 'Ending Balance': 189.44999999999737}, {'Month': 59, 'Beginning Balance': 190.31999999999738, 'Payment': 95.51, 'Principal': 94.64, 'Interest': 0.87, 'Ending Balance': 94.80999999999737}, {'Month': 60, 'Beginning Balance': 95.23999999999738, 'Payment': 95.51, 'Principal': 95.08, 'Interest': 0.43, 'Ending Balance': -0.27000000000262503}]}\n"
     ]
    }
   ],
   "source": [
    "# Test Monthly Payment - should be 95.51\n",
    "print(create_loan_payment_data(60, 5000, 5.5))"
   ]
  },
  {
   "cell_type": "code",
   "execution_count": null,
   "id": "db03b9b9-8623-4e43-aab1-6143f395edbd",
   "metadata": {},
   "outputs": [],
   "source": []
  }
 ],
 "metadata": {
  "kernelspec": {
   "display_name": "Python 3 (ipykernel)",
   "language": "python",
   "name": "python3"
  },
  "language_info": {
   "codemirror_mode": {
    "name": "ipython",
    "version": 3
   },
   "file_extension": ".py",
   "mimetype": "text/x-python",
   "name": "python",
   "nbconvert_exporter": "python",
   "pygments_lexer": "ipython3",
   "version": "3.11.2"
  }
 },
 "nbformat": 4,
 "nbformat_minor": 5
}
