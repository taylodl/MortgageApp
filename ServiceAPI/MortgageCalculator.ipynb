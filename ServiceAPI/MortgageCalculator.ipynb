{
 "cells": [
  {
   "cell_type": "code",
   "execution_count": 145,
   "id": "584cbce8-f5d9-4e7d-ad73-f28d567a830b",
   "metadata": {},
   "outputs": [],
   "source": [
    "from decimal import Decimal, ROUND_HALF_UP\n",
    "\n",
    "def create_loan_payment_data(months, principal, interest_rate) :\n",
    "    # Validate inputs\n",
    "    if (not isinstance(months, int) or months < 1) :\n",
    "        return {\"error\" : \"months must be a whole number >= 1\"}\n",
    "    if (not (principal > 0)) :\n",
    "        return {\"error\" : \"principal must be greater than 0\"} \n",
    "    if (not (interest_rate > 0)) :\n",
    "        return {\"error\" : \"interest rate must be greater than 0\"}\n",
    "\n",
    "    # Initialize our data to return\n",
    "    ReturnedData = {}\n",
    "    LoanData = {\"Monthly Payment\" : 0, \"Payments\" : 0, \"Total Interest\" : 0, \"Total Loan Cost\" : 0}\n",
    "    PaymentData = []\n",
    "\n",
    "    # Preliminary calculations to get us started\n",
    "\n",
    "    # The interest rate given is APY, we need to turn to an actual percentage and divide by 12 to get a monthly percentage\n",
    "    monthly_rate = Decimal(interest_rate / 100 / 12)\n",
    "    \n",
    "    # Consideration: we're working with currency, not floats.\n",
    "    # We need to work with Decimal and round up to the nearest cent (typical strategy in finance - check assumption with client)\n",
    "\n",
    "    # This is the formula provided by the client to calculate the monthly payment\n",
    "    monthly_payment = principal * monthly_rate * ((1 + monthly_rate) ** months) / (((1 + monthly_rate) ** months) - 1)\n",
    "    monthly_payment = Decimal(monthly_payment).quantize(Decimal('0.01'))\n",
    "        \n",
    "    # Initialize LoanData values\n",
    "    total_interest_paid = Decimal(0.00)\n",
    "    total_loan_cost = Decimal(0.00)\n",
    "    remaining_loan_balance = Decimal(principal)\n",
    "\n",
    "    # Now let's go through the months\n",
    "    for month in range(1, months + 1) :\n",
    "        monthly_interest = (remaining_loan_balance * monthly_rate).quantize(Decimal('0.01'))\n",
    "        monthly_principal = (monthly_payment - monthly_interest).quantize(Decimal('0.01'))\n",
    "        remaining_loan_balance = (remaining_loan_balance - monthly_principal).quantize(Decimal('0.01'))\n",
    "        total_interest_paid = (total_interest_paid + monthly_interest).quantize(Decimal('0.01'))\n",
    "        total_loan_cost = (total_loan_cost + monthly_payment).quantize(Decimal('0.01'))\n",
    "        PaymentData.append({\"Month\" : month, \n",
    "                         \"Beginning Balance\" : f\"{(remaining_loan_balance + monthly_principal):.2f}\",\n",
    "                         \"Payment\" : f\"{monthly_payment:.2f}\", \n",
    "                         \"Principal\" : f\"{monthly_principal:.2f}\",\n",
    "                         \"Interest\" : f\"{monthly_interest:.2f}\",\n",
    "                         \"Ending Balance\" : f\"{remaining_loan_balance:.2f}\"})\n",
    "\n",
    "    # Now let's package the results\n",
    "    LoanData[\"Monthly Payment\"] = f\"{float(monthly_payment):.2f}\"\n",
    "    LoanData[\"Payments\"] = months\n",
    "    LoanData[\"Total Interest\"] = f\"{float(total_interest_paid):.2f}\"\n",
    "    LoanData[\"Total Loan Cost\"] = f\"{float(total_loan_cost):.2f}\"\n",
    "\n",
    "    ReturnedData = {\"Loan Data\" : LoanData, \"Payment Data\" : PaymentData}\n",
    "\n",
    "    return ReturnedData\n",
    "\n"
   ]
  },
  {
   "cell_type": "code",
   "execution_count": 87,
   "id": "58518b3e-fac0-49cd-8032-340f0c2b4bf2",
   "metadata": {},
   "outputs": [
    {
     "name": "stdout",
     "output_type": "stream",
     "text": [
      "{'error': 'months must be a whole number >= 1'}\n"
     ]
    }
   ],
   "source": [
    "# Boundary Test - months is not a whole number\n",
    "print(create_loan_payment_data(60.5, 50000, 2.5))"
   ]
  },
  {
   "cell_type": "code",
   "execution_count": 19,
   "id": "508cc1bf-68f6-42c3-9caf-c10c8a289349",
   "metadata": {},
   "outputs": [
    {
     "name": "stdout",
     "output_type": "stream",
     "text": [
      "{'error': 'months must be a whole number >= 1'}\n"
     ]
    }
   ],
   "source": [
    "# Boundary Test - months is < 0\n",
    "print(create_loan_payment_data(-60, 50000, 2.5))"
   ]
  },
  {
   "cell_type": "code",
   "execution_count": 20,
   "id": "74d534bb-22fd-474b-96a3-4e8d67658e95",
   "metadata": {},
   "outputs": [
    {
     "name": "stdout",
     "output_type": "stream",
     "text": [
      "{'error': 'months must be a whole number >= 1'}\n"
     ]
    }
   ],
   "source": [
    "# Boundary Test - months is < 0 and not an int\n",
    "print(create_loan_payment_data(-60.5, 50000, 2.5))"
   ]
  },
  {
   "cell_type": "code",
   "execution_count": 22,
   "id": "9dc92ddd-f61d-40f6-8d06-93b7a3224d34",
   "metadata": {},
   "outputs": [
    {
     "name": "stdout",
     "output_type": "stream",
     "text": [
      "{'Loan Data': {'Monthly Payment': 0, 'Payments': 0, 'Total Interest': 0, 'Total Loan Cost': 0}, 'Payment Data': {}}\n"
     ]
    }
   ],
   "source": [
    "# Boundary Test - months is equal to 1 - this should be valid\n",
    "print(create_loan_payment_data(1, 50000, 2.5))"
   ]
  },
  {
   "cell_type": "code",
   "execution_count": 23,
   "id": "128954d1-7fb1-47e8-ab28-5822e6345043",
   "metadata": {},
   "outputs": [
    {
     "name": "stdout",
     "output_type": "stream",
     "text": [
      "{'error': 'interest rate must be greater than 0'}\n"
     ]
    }
   ],
   "source": [
    "# Boundary Test - principal is < 0\n",
    "print(create_loan_payment_data(1, 50000, -2.5))"
   ]
  },
  {
   "cell_type": "code",
   "execution_count": 25,
   "id": "b4ec976d-637b-46fc-8864-16451d8a7c60",
   "metadata": {},
   "outputs": [
    {
     "name": "stdout",
     "output_type": "stream",
     "text": [
      "{'error': 'principal must be greater than 0'}\n"
     ]
    }
   ],
   "source": [
    "# Boundary Test - principal is 0\n",
    "print(create_loan_payment_data(60, 0, 2.5))"
   ]
  },
  {
   "cell_type": "code",
   "execution_count": 44,
   "id": "addcf076-fdeb-4ce0-aa63-aff37b0e3447",
   "metadata": {},
   "outputs": [
    {
     "name": "stdout",
     "output_type": "stream",
     "text": [
      "{'error': 'interest rate must be greater than 0'}\n"
     ]
    }
   ],
   "source": [
    "# Boundary Test - interest is 0 \n",
    "print(create_loan_payment_data(60, 50000, 0))"
   ]
  },
  {
   "cell_type": "code",
   "execution_count": 146,
   "id": "65fd3042-3978-4cdb-b310-d57a952855a8",
   "metadata": {},
   "outputs": [
    {
     "name": "stdout",
     "output_type": "stream",
     "text": [
      "{'Loan Data': {'Monthly Payment': '95.51', 'Payments': 60, 'Total Interest': '730.33', 'Total Loan Cost': '5730.60'}, 'Payment Data': [{'Month': 1, 'Beginning Balance': '5000.00', 'Payment': '95.51', 'Principal': '72.59', 'Interest': '22.92', 'Ending Balance': '4927.41'}, {'Month': 2, 'Beginning Balance': '4927.41', 'Payment': '95.51', 'Principal': '72.93', 'Interest': '22.58', 'Ending Balance': '4854.48'}, {'Month': 3, 'Beginning Balance': '4854.48', 'Payment': '95.51', 'Principal': '73.26', 'Interest': '22.25', 'Ending Balance': '4781.22'}, {'Month': 4, 'Beginning Balance': '4781.22', 'Payment': '95.51', 'Principal': '73.60', 'Interest': '21.91', 'Ending Balance': '4707.62'}, {'Month': 5, 'Beginning Balance': '4707.62', 'Payment': '95.51', 'Principal': '73.93', 'Interest': '21.58', 'Ending Balance': '4633.69'}, {'Month': 6, 'Beginning Balance': '4633.69', 'Payment': '95.51', 'Principal': '74.27', 'Interest': '21.24', 'Ending Balance': '4559.42'}, {'Month': 7, 'Beginning Balance': '4559.42', 'Payment': '95.51', 'Principal': '74.61', 'Interest': '20.90', 'Ending Balance': '4484.81'}, {'Month': 8, 'Beginning Balance': '4484.81', 'Payment': '95.51', 'Principal': '74.95', 'Interest': '20.56', 'Ending Balance': '4409.86'}, {'Month': 9, 'Beginning Balance': '4409.86', 'Payment': '95.51', 'Principal': '75.30', 'Interest': '20.21', 'Ending Balance': '4334.56'}, {'Month': 10, 'Beginning Balance': '4334.56', 'Payment': '95.51', 'Principal': '75.64', 'Interest': '19.87', 'Ending Balance': '4258.92'}, {'Month': 11, 'Beginning Balance': '4258.92', 'Payment': '95.51', 'Principal': '75.99', 'Interest': '19.52', 'Ending Balance': '4182.93'}, {'Month': 12, 'Beginning Balance': '4182.93', 'Payment': '95.51', 'Principal': '76.34', 'Interest': '19.17', 'Ending Balance': '4106.59'}, {'Month': 13, 'Beginning Balance': '4106.59', 'Payment': '95.51', 'Principal': '76.69', 'Interest': '18.82', 'Ending Balance': '4029.90'}, {'Month': 14, 'Beginning Balance': '4029.90', 'Payment': '95.51', 'Principal': '77.04', 'Interest': '18.47', 'Ending Balance': '3952.86'}, {'Month': 15, 'Beginning Balance': '3952.86', 'Payment': '95.51', 'Principal': '77.39', 'Interest': '18.12', 'Ending Balance': '3875.47'}, {'Month': 16, 'Beginning Balance': '3875.47', 'Payment': '95.51', 'Principal': '77.75', 'Interest': '17.76', 'Ending Balance': '3797.72'}, {'Month': 17, 'Beginning Balance': '3797.72', 'Payment': '95.51', 'Principal': '78.10', 'Interest': '17.41', 'Ending Balance': '3719.62'}, {'Month': 18, 'Beginning Balance': '3719.62', 'Payment': '95.51', 'Principal': '78.46', 'Interest': '17.05', 'Ending Balance': '3641.16'}, {'Month': 19, 'Beginning Balance': '3641.16', 'Payment': '95.51', 'Principal': '78.82', 'Interest': '16.69', 'Ending Balance': '3562.34'}, {'Month': 20, 'Beginning Balance': '3562.34', 'Payment': '95.51', 'Principal': '79.18', 'Interest': '16.33', 'Ending Balance': '3483.16'}, {'Month': 21, 'Beginning Balance': '3483.16', 'Payment': '95.51', 'Principal': '79.55', 'Interest': '15.96', 'Ending Balance': '3403.61'}, {'Month': 22, 'Beginning Balance': '3403.61', 'Payment': '95.51', 'Principal': '79.91', 'Interest': '15.60', 'Ending Balance': '3323.70'}, {'Month': 23, 'Beginning Balance': '3323.70', 'Payment': '95.51', 'Principal': '80.28', 'Interest': '15.23', 'Ending Balance': '3243.42'}, {'Month': 24, 'Beginning Balance': '3243.42', 'Payment': '95.51', 'Principal': '80.64', 'Interest': '14.87', 'Ending Balance': '3162.78'}, {'Month': 25, 'Beginning Balance': '3162.78', 'Payment': '95.51', 'Principal': '81.01', 'Interest': '14.50', 'Ending Balance': '3081.77'}, {'Month': 26, 'Beginning Balance': '3081.77', 'Payment': '95.51', 'Principal': '81.39', 'Interest': '14.12', 'Ending Balance': '3000.38'}, {'Month': 27, 'Beginning Balance': '3000.38', 'Payment': '95.51', 'Principal': '81.76', 'Interest': '13.75', 'Ending Balance': '2918.62'}, {'Month': 28, 'Beginning Balance': '2918.62', 'Payment': '95.51', 'Principal': '82.13', 'Interest': '13.38', 'Ending Balance': '2836.49'}, {'Month': 29, 'Beginning Balance': '2836.49', 'Payment': '95.51', 'Principal': '82.51', 'Interest': '13.00', 'Ending Balance': '2753.98'}, {'Month': 30, 'Beginning Balance': '2753.98', 'Payment': '95.51', 'Principal': '82.89', 'Interest': '12.62', 'Ending Balance': '2671.09'}, {'Month': 31, 'Beginning Balance': '2671.09', 'Payment': '95.51', 'Principal': '83.27', 'Interest': '12.24', 'Ending Balance': '2587.82'}, {'Month': 32, 'Beginning Balance': '2587.82', 'Payment': '95.51', 'Principal': '83.65', 'Interest': '11.86', 'Ending Balance': '2504.17'}, {'Month': 33, 'Beginning Balance': '2504.17', 'Payment': '95.51', 'Principal': '84.03', 'Interest': '11.48', 'Ending Balance': '2420.14'}, {'Month': 34, 'Beginning Balance': '2420.14', 'Payment': '95.51', 'Principal': '84.42', 'Interest': '11.09', 'Ending Balance': '2335.72'}, {'Month': 35, 'Beginning Balance': '2335.72', 'Payment': '95.51', 'Principal': '84.80', 'Interest': '10.71', 'Ending Balance': '2250.92'}, {'Month': 36, 'Beginning Balance': '2250.92', 'Payment': '95.51', 'Principal': '85.19', 'Interest': '10.32', 'Ending Balance': '2165.73'}, {'Month': 37, 'Beginning Balance': '2165.73', 'Payment': '95.51', 'Principal': '85.58', 'Interest': '9.93', 'Ending Balance': '2080.15'}, {'Month': 38, 'Beginning Balance': '2080.15', 'Payment': '95.51', 'Principal': '85.98', 'Interest': '9.53', 'Ending Balance': '1994.17'}, {'Month': 39, 'Beginning Balance': '1994.17', 'Payment': '95.51', 'Principal': '86.37', 'Interest': '9.14', 'Ending Balance': '1907.80'}, {'Month': 40, 'Beginning Balance': '1907.80', 'Payment': '95.51', 'Principal': '86.77', 'Interest': '8.74', 'Ending Balance': '1821.03'}, {'Month': 41, 'Beginning Balance': '1821.03', 'Payment': '95.51', 'Principal': '87.16', 'Interest': '8.35', 'Ending Balance': '1733.87'}, {'Month': 42, 'Beginning Balance': '1733.87', 'Payment': '95.51', 'Principal': '87.56', 'Interest': '7.95', 'Ending Balance': '1646.31'}, {'Month': 43, 'Beginning Balance': '1646.31', 'Payment': '95.51', 'Principal': '87.96', 'Interest': '7.55', 'Ending Balance': '1558.35'}, {'Month': 44, 'Beginning Balance': '1558.35', 'Payment': '95.51', 'Principal': '88.37', 'Interest': '7.14', 'Ending Balance': '1469.98'}, {'Month': 45, 'Beginning Balance': '1469.98', 'Payment': '95.51', 'Principal': '88.77', 'Interest': '6.74', 'Ending Balance': '1381.21'}, {'Month': 46, 'Beginning Balance': '1381.21', 'Payment': '95.51', 'Principal': '89.18', 'Interest': '6.33', 'Ending Balance': '1292.03'}, {'Month': 47, 'Beginning Balance': '1292.03', 'Payment': '95.51', 'Principal': '89.59', 'Interest': '5.92', 'Ending Balance': '1202.44'}, {'Month': 48, 'Beginning Balance': '1202.44', 'Payment': '95.51', 'Principal': '90.00', 'Interest': '5.51', 'Ending Balance': '1112.44'}, {'Month': 49, 'Beginning Balance': '1112.44', 'Payment': '95.51', 'Principal': '90.41', 'Interest': '5.10', 'Ending Balance': '1022.03'}, {'Month': 50, 'Beginning Balance': '1022.03', 'Payment': '95.51', 'Principal': '90.83', 'Interest': '4.68', 'Ending Balance': '931.20'}, {'Month': 51, 'Beginning Balance': '931.20', 'Payment': '95.51', 'Principal': '91.24', 'Interest': '4.27', 'Ending Balance': '839.96'}, {'Month': 52, 'Beginning Balance': '839.96', 'Payment': '95.51', 'Principal': '91.66', 'Interest': '3.85', 'Ending Balance': '748.30'}, {'Month': 53, 'Beginning Balance': '748.30', 'Payment': '95.51', 'Principal': '92.08', 'Interest': '3.43', 'Ending Balance': '656.22'}, {'Month': 54, 'Beginning Balance': '656.22', 'Payment': '95.51', 'Principal': '92.50', 'Interest': '3.01', 'Ending Balance': '563.72'}, {'Month': 55, 'Beginning Balance': '563.72', 'Payment': '95.51', 'Principal': '92.93', 'Interest': '2.58', 'Ending Balance': '470.79'}, {'Month': 56, 'Beginning Balance': '470.79', 'Payment': '95.51', 'Principal': '93.35', 'Interest': '2.16', 'Ending Balance': '377.44'}, {'Month': 57, 'Beginning Balance': '377.44', 'Payment': '95.51', 'Principal': '93.78', 'Interest': '1.73', 'Ending Balance': '283.66'}, {'Month': 58, 'Beginning Balance': '283.66', 'Payment': '95.51', 'Principal': '94.21', 'Interest': '1.30', 'Ending Balance': '189.45'}, {'Month': 59, 'Beginning Balance': '189.45', 'Payment': '95.51', 'Principal': '94.64', 'Interest': '0.87', 'Ending Balance': '94.81'}, {'Month': 60, 'Beginning Balance': '94.81', 'Payment': '95.51', 'Principal': '95.08', 'Interest': '0.43', 'Ending Balance': '-0.27'}]}\n"
     ]
    }
   ],
   "source": [
    "# Test Monthly Payment - should be 95.51\n",
    "print(create_loan_payment_data(60, 5000, 5.5))"
   ]
  },
  {
   "cell_type": "code",
   "execution_count": 138,
   "id": "f453abd3-6dcd-4559-bcbe-8b5196d8c889",
   "metadata": {},
   "outputs": [
    {
     "name": "stdout",
     "output_type": "stream",
     "text": [
      "{'Loan Data': {'Monthly Payment': ('1143.81',), 'Payments': 180, 'Total Interest': ('45886.24',), 'Total Loan Cost': '205885.80'}, 'Payment Data': [{'Month': 1, 'Beginning Balance': '160000.00', 'Payment': '1143.81', 'Principal': '677.14', 'Interest': '466.67', 'Ending Balance': '159322.86'}, {'Month': 2, 'Beginning Balance': '159322.86', 'Payment': '1143.81', 'Principal': '679.12', 'Interest': '464.69', 'Ending Balance': '158643.74'}, {'Month': 3, 'Beginning Balance': '158643.74', 'Payment': '1143.81', 'Principal': '681.10', 'Interest': '462.71', 'Ending Balance': '157962.64'}, {'Month': 4, 'Beginning Balance': '157962.64', 'Payment': '1143.81', 'Principal': '683.09', 'Interest': '460.72', 'Ending Balance': '157279.55'}, {'Month': 5, 'Beginning Balance': '157279.55', 'Payment': '1143.81', 'Principal': '685.08', 'Interest': '458.73', 'Ending Balance': '156594.47'}, {'Month': 6, 'Beginning Balance': '156594.47', 'Payment': '1143.81', 'Principal': '687.08', 'Interest': '456.73', 'Ending Balance': '155907.39'}, {'Month': 7, 'Beginning Balance': '155907.39', 'Payment': '1143.81', 'Principal': '689.08', 'Interest': '454.73', 'Ending Balance': '155218.31'}, {'Month': 8, 'Beginning Balance': '155218.31', 'Payment': '1143.81', 'Principal': '691.09', 'Interest': '452.72', 'Ending Balance': '154527.22'}, {'Month': 9, 'Beginning Balance': '154527.22', 'Payment': '1143.81', 'Principal': '693.11', 'Interest': '450.70', 'Ending Balance': '153834.11'}, {'Month': 10, 'Beginning Balance': '153834.11', 'Payment': '1143.81', 'Principal': '695.13', 'Interest': '448.68', 'Ending Balance': '153138.98'}, {'Month': 11, 'Beginning Balance': '153138.98', 'Payment': '1143.81', 'Principal': '697.15', 'Interest': '446.66', 'Ending Balance': '152441.83'}, {'Month': 12, 'Beginning Balance': '152441.83', 'Payment': '1143.81', 'Principal': '699.19', 'Interest': '444.62', 'Ending Balance': '151742.64'}, {'Month': 13, 'Beginning Balance': '151742.64', 'Payment': '1143.81', 'Principal': '701.23', 'Interest': '442.58', 'Ending Balance': '151041.41'}, {'Month': 14, 'Beginning Balance': '151041.41', 'Payment': '1143.81', 'Principal': '703.27', 'Interest': '440.54', 'Ending Balance': '150338.14'}, {'Month': 15, 'Beginning Balance': '150338.14', 'Payment': '1143.81', 'Principal': '705.32', 'Interest': '438.49', 'Ending Balance': '149632.82'}, {'Month': 16, 'Beginning Balance': '149632.82', 'Payment': '1143.81', 'Principal': '707.38', 'Interest': '436.43', 'Ending Balance': '148925.44'}, {'Month': 17, 'Beginning Balance': '148925.44', 'Payment': '1143.81', 'Principal': '709.44', 'Interest': '434.37', 'Ending Balance': '148216.00'}, {'Month': 18, 'Beginning Balance': '148216.00', 'Payment': '1143.81', 'Principal': '711.51', 'Interest': '432.30', 'Ending Balance': '147504.49'}, {'Month': 19, 'Beginning Balance': '147504.49', 'Payment': '1143.81', 'Principal': '713.59', 'Interest': '430.22', 'Ending Balance': '146790.90'}, {'Month': 20, 'Beginning Balance': '146790.90', 'Payment': '1143.81', 'Principal': '715.67', 'Interest': '428.14', 'Ending Balance': '146075.23'}, {'Month': 21, 'Beginning Balance': '146075.23', 'Payment': '1143.81', 'Principal': '717.76', 'Interest': '426.05', 'Ending Balance': '145357.47'}, {'Month': 22, 'Beginning Balance': '145357.47', 'Payment': '1143.81', 'Principal': '719.85', 'Interest': '423.96', 'Ending Balance': '144637.62'}, {'Month': 23, 'Beginning Balance': '144637.62', 'Payment': '1143.81', 'Principal': '721.95', 'Interest': '421.86', 'Ending Balance': '143915.67'}, {'Month': 24, 'Beginning Balance': '143915.67', 'Payment': '1143.81', 'Principal': '724.06', 'Interest': '419.75', 'Ending Balance': '143191.61'}, {'Month': 25, 'Beginning Balance': '143191.61', 'Payment': '1143.81', 'Principal': '726.17', 'Interest': '417.64', 'Ending Balance': '142465.44'}, {'Month': 26, 'Beginning Balance': '142465.44', 'Payment': '1143.81', 'Principal': '728.29', 'Interest': '415.52', 'Ending Balance': '141737.15'}, {'Month': 27, 'Beginning Balance': '141737.15', 'Payment': '1143.81', 'Principal': '730.41', 'Interest': '413.40', 'Ending Balance': '141006.74'}, {'Month': 28, 'Beginning Balance': '141006.74', 'Payment': '1143.81', 'Principal': '732.54', 'Interest': '411.27', 'Ending Balance': '140274.20'}, {'Month': 29, 'Beginning Balance': '140274.20', 'Payment': '1143.81', 'Principal': '734.68', 'Interest': '409.13', 'Ending Balance': '139539.52'}, {'Month': 30, 'Beginning Balance': '139539.52', 'Payment': '1143.81', 'Principal': '736.82', 'Interest': '406.99', 'Ending Balance': '138802.70'}, {'Month': 31, 'Beginning Balance': '138802.70', 'Payment': '1143.81', 'Principal': '738.97', 'Interest': '404.84', 'Ending Balance': '138063.73'}, {'Month': 32, 'Beginning Balance': '138063.73', 'Payment': '1143.81', 'Principal': '741.12', 'Interest': '402.69', 'Ending Balance': '137322.61'}, {'Month': 33, 'Beginning Balance': '137322.61', 'Payment': '1143.81', 'Principal': '743.29', 'Interest': '400.52', 'Ending Balance': '136579.32'}, {'Month': 34, 'Beginning Balance': '136579.32', 'Payment': '1143.81', 'Principal': '745.45', 'Interest': '398.36', 'Ending Balance': '135833.87'}, {'Month': 35, 'Beginning Balance': '135833.87', 'Payment': '1143.81', 'Principal': '747.63', 'Interest': '396.18', 'Ending Balance': '135086.24'}, {'Month': 36, 'Beginning Balance': '135086.24', 'Payment': '1143.81', 'Principal': '749.81', 'Interest': '394.00', 'Ending Balance': '134336.43'}, {'Month': 37, 'Beginning Balance': '134336.43', 'Payment': '1143.81', 'Principal': '752.00', 'Interest': '391.81', 'Ending Balance': '133584.43'}, {'Month': 38, 'Beginning Balance': '133584.43', 'Payment': '1143.81', 'Principal': '754.19', 'Interest': '389.62', 'Ending Balance': '132830.24'}, {'Month': 39, 'Beginning Balance': '132830.24', 'Payment': '1143.81', 'Principal': '756.39', 'Interest': '387.42', 'Ending Balance': '132073.85'}, {'Month': 40, 'Beginning Balance': '132073.85', 'Payment': '1143.81', 'Principal': '758.59', 'Interest': '385.22', 'Ending Balance': '131315.26'}, {'Month': 41, 'Beginning Balance': '131315.26', 'Payment': '1143.81', 'Principal': '760.81', 'Interest': '383.00', 'Ending Balance': '130554.45'}, {'Month': 42, 'Beginning Balance': '130554.45', 'Payment': '1143.81', 'Principal': '763.03', 'Interest': '380.78', 'Ending Balance': '129791.42'}, {'Month': 43, 'Beginning Balance': '129791.42', 'Payment': '1143.81', 'Principal': '765.25', 'Interest': '378.56', 'Ending Balance': '129026.17'}, {'Month': 44, 'Beginning Balance': '129026.17', 'Payment': '1143.81', 'Principal': '767.48', 'Interest': '376.33', 'Ending Balance': '128258.69'}, {'Month': 45, 'Beginning Balance': '128258.69', 'Payment': '1143.81', 'Principal': '769.72', 'Interest': '374.09', 'Ending Balance': '127488.97'}, {'Month': 46, 'Beginning Balance': '127488.97', 'Payment': '1143.81', 'Principal': '771.97', 'Interest': '371.84', 'Ending Balance': '126717.00'}, {'Month': 47, 'Beginning Balance': '126717.00', 'Payment': '1143.81', 'Principal': '774.22', 'Interest': '369.59', 'Ending Balance': '125942.78'}, {'Month': 48, 'Beginning Balance': '125942.78', 'Payment': '1143.81', 'Principal': '776.48', 'Interest': '367.33', 'Ending Balance': '125166.30'}, {'Month': 49, 'Beginning Balance': '125166.30', 'Payment': '1143.81', 'Principal': '778.74', 'Interest': '365.07', 'Ending Balance': '124387.56'}, {'Month': 50, 'Beginning Balance': '124387.56', 'Payment': '1143.81', 'Principal': '781.01', 'Interest': '362.80', 'Ending Balance': '123606.55'}, {'Month': 51, 'Beginning Balance': '123606.55', 'Payment': '1143.81', 'Principal': '783.29', 'Interest': '360.52', 'Ending Balance': '122823.26'}, {'Month': 52, 'Beginning Balance': '122823.26', 'Payment': '1143.81', 'Principal': '785.58', 'Interest': '358.23', 'Ending Balance': '122037.68'}, {'Month': 53, 'Beginning Balance': '122037.68', 'Payment': '1143.81', 'Principal': '787.87', 'Interest': '355.94', 'Ending Balance': '121249.81'}, {'Month': 54, 'Beginning Balance': '121249.81', 'Payment': '1143.81', 'Principal': '790.16', 'Interest': '353.65', 'Ending Balance': '120459.65'}, {'Month': 55, 'Beginning Balance': '120459.65', 'Payment': '1143.81', 'Principal': '792.47', 'Interest': '351.34', 'Ending Balance': '119667.18'}, {'Month': 56, 'Beginning Balance': '119667.18', 'Payment': '1143.81', 'Principal': '794.78', 'Interest': '349.03', 'Ending Balance': '118872.40'}, {'Month': 57, 'Beginning Balance': '118872.40', 'Payment': '1143.81', 'Principal': '797.10', 'Interest': '346.71', 'Ending Balance': '118075.30'}, {'Month': 58, 'Beginning Balance': '118075.30', 'Payment': '1143.81', 'Principal': '799.42', 'Interest': '344.39', 'Ending Balance': '117275.88'}, {'Month': 59, 'Beginning Balance': '117275.88', 'Payment': '1143.81', 'Principal': '801.76', 'Interest': '342.05', 'Ending Balance': '116474.12'}, {'Month': 60, 'Beginning Balance': '116474.12', 'Payment': '1143.81', 'Principal': '804.09', 'Interest': '339.72', 'Ending Balance': '115670.03'}, {'Month': 61, 'Beginning Balance': '115670.03', 'Payment': '1143.81', 'Principal': '806.44', 'Interest': '337.37', 'Ending Balance': '114863.59'}, {'Month': 62, 'Beginning Balance': '114863.59', 'Payment': '1143.81', 'Principal': '808.79', 'Interest': '335.02', 'Ending Balance': '114054.80'}, {'Month': 63, 'Beginning Balance': '114054.80', 'Payment': '1143.81', 'Principal': '811.15', 'Interest': '332.66', 'Ending Balance': '113243.65'}, {'Month': 64, 'Beginning Balance': '113243.65', 'Payment': '1143.81', 'Principal': '813.52', 'Interest': '330.29', 'Ending Balance': '112430.13'}, {'Month': 65, 'Beginning Balance': '112430.13', 'Payment': '1143.81', 'Principal': '815.89', 'Interest': '327.92', 'Ending Balance': '111614.24'}, {'Month': 66, 'Beginning Balance': '111614.24', 'Payment': '1143.81', 'Principal': '818.27', 'Interest': '325.54', 'Ending Balance': '110795.97'}, {'Month': 67, 'Beginning Balance': '110795.97', 'Payment': '1143.81', 'Principal': '820.66', 'Interest': '323.15', 'Ending Balance': '109975.31'}, {'Month': 68, 'Beginning Balance': '109975.31', 'Payment': '1143.81', 'Principal': '823.05', 'Interest': '320.76', 'Ending Balance': '109152.26'}, {'Month': 69, 'Beginning Balance': '109152.26', 'Payment': '1143.81', 'Principal': '825.45', 'Interest': '318.36', 'Ending Balance': '108326.81'}, {'Month': 70, 'Beginning Balance': '108326.81', 'Payment': '1143.81', 'Principal': '827.86', 'Interest': '315.95', 'Ending Balance': '107498.95'}, {'Month': 71, 'Beginning Balance': '107498.95', 'Payment': '1143.81', 'Principal': '830.27', 'Interest': '313.54', 'Ending Balance': '106668.68'}, {'Month': 72, 'Beginning Balance': '106668.68', 'Payment': '1143.81', 'Principal': '832.69', 'Interest': '311.12', 'Ending Balance': '105835.99'}, {'Month': 73, 'Beginning Balance': '105835.99', 'Payment': '1143.81', 'Principal': '835.12', 'Interest': '308.69', 'Ending Balance': '105000.87'}, {'Month': 74, 'Beginning Balance': '105000.87', 'Payment': '1143.81', 'Principal': '837.56', 'Interest': '306.25', 'Ending Balance': '104163.31'}, {'Month': 75, 'Beginning Balance': '104163.31', 'Payment': '1143.81', 'Principal': '840.00', 'Interest': '303.81', 'Ending Balance': '103323.31'}, {'Month': 76, 'Beginning Balance': '103323.31', 'Payment': '1143.81', 'Principal': '842.45', 'Interest': '301.36', 'Ending Balance': '102480.86'}, {'Month': 77, 'Beginning Balance': '102480.86', 'Payment': '1143.81', 'Principal': '844.91', 'Interest': '298.90', 'Ending Balance': '101635.95'}, {'Month': 78, 'Beginning Balance': '101635.95', 'Payment': '1143.81', 'Principal': '847.37', 'Interest': '296.44', 'Ending Balance': '100788.58'}, {'Month': 79, 'Beginning Balance': '100788.58', 'Payment': '1143.81', 'Principal': '849.84', 'Interest': '293.97', 'Ending Balance': '99938.74'}, {'Month': 80, 'Beginning Balance': '99938.74', 'Payment': '1143.81', 'Principal': '852.32', 'Interest': '291.49', 'Ending Balance': '99086.42'}, {'Month': 81, 'Beginning Balance': '99086.42', 'Payment': '1143.81', 'Principal': '854.81', 'Interest': '289.00', 'Ending Balance': '98231.61'}, {'Month': 82, 'Beginning Balance': '98231.61', 'Payment': '1143.81', 'Principal': '857.30', 'Interest': '286.51', 'Ending Balance': '97374.31'}, {'Month': 83, 'Beginning Balance': '97374.31', 'Payment': '1143.81', 'Principal': '859.80', 'Interest': '284.01', 'Ending Balance': '96514.51'}, {'Month': 84, 'Beginning Balance': '96514.51', 'Payment': '1143.81', 'Principal': '862.31', 'Interest': '281.50', 'Ending Balance': '95652.20'}, {'Month': 85, 'Beginning Balance': '95652.20', 'Payment': '1143.81', 'Principal': '864.82', 'Interest': '278.99', 'Ending Balance': '94787.38'}, {'Month': 86, 'Beginning Balance': '94787.38', 'Payment': '1143.81', 'Principal': '867.35', 'Interest': '276.46', 'Ending Balance': '93920.03'}, {'Month': 87, 'Beginning Balance': '93920.03', 'Payment': '1143.81', 'Principal': '869.88', 'Interest': '273.93', 'Ending Balance': '93050.15'}, {'Month': 88, 'Beginning Balance': '93050.15', 'Payment': '1143.81', 'Principal': '872.41', 'Interest': '271.40', 'Ending Balance': '92177.74'}, {'Month': 89, 'Beginning Balance': '92177.74', 'Payment': '1143.81', 'Principal': '874.96', 'Interest': '268.85', 'Ending Balance': '91302.78'}, {'Month': 90, 'Beginning Balance': '91302.78', 'Payment': '1143.81', 'Principal': '877.51', 'Interest': '266.30', 'Ending Balance': '90425.27'}, {'Month': 91, 'Beginning Balance': '90425.27', 'Payment': '1143.81', 'Principal': '880.07', 'Interest': '263.74', 'Ending Balance': '89545.20'}, {'Month': 92, 'Beginning Balance': '89545.20', 'Payment': '1143.81', 'Principal': '882.64', 'Interest': '261.17', 'Ending Balance': '88662.56'}, {'Month': 93, 'Beginning Balance': '88662.56', 'Payment': '1143.81', 'Principal': '885.21', 'Interest': '258.60', 'Ending Balance': '87777.35'}, {'Month': 94, 'Beginning Balance': '87777.35', 'Payment': '1143.81', 'Principal': '887.79', 'Interest': '256.02', 'Ending Balance': '86889.56'}, {'Month': 95, 'Beginning Balance': '86889.56', 'Payment': '1143.81', 'Principal': '890.38', 'Interest': '253.43', 'Ending Balance': '85999.18'}, {'Month': 96, 'Beginning Balance': '85999.18', 'Payment': '1143.81', 'Principal': '892.98', 'Interest': '250.83', 'Ending Balance': '85106.20'}, {'Month': 97, 'Beginning Balance': '85106.20', 'Payment': '1143.81', 'Principal': '895.58', 'Interest': '248.23', 'Ending Balance': '84210.62'}, {'Month': 98, 'Beginning Balance': '84210.62', 'Payment': '1143.81', 'Principal': '898.20', 'Interest': '245.61', 'Ending Balance': '83312.42'}, {'Month': 99, 'Beginning Balance': '83312.42', 'Payment': '1143.81', 'Principal': '900.82', 'Interest': '242.99', 'Ending Balance': '82411.60'}, {'Month': 100, 'Beginning Balance': '82411.60', 'Payment': '1143.81', 'Principal': '903.44', 'Interest': '240.37', 'Ending Balance': '81508.16'}, {'Month': 101, 'Beginning Balance': '81508.16', 'Payment': '1143.81', 'Principal': '906.08', 'Interest': '237.73', 'Ending Balance': '80602.08'}, {'Month': 102, 'Beginning Balance': '80602.08', 'Payment': '1143.81', 'Principal': '908.72', 'Interest': '235.09', 'Ending Balance': '79693.36'}, {'Month': 103, 'Beginning Balance': '79693.36', 'Payment': '1143.81', 'Principal': '911.37', 'Interest': '232.44', 'Ending Balance': '78781.99'}, {'Month': 104, 'Beginning Balance': '78781.99', 'Payment': '1143.81', 'Principal': '914.03', 'Interest': '229.78', 'Ending Balance': '77867.96'}, {'Month': 105, 'Beginning Balance': '77867.96', 'Payment': '1143.81', 'Principal': '916.70', 'Interest': '227.11', 'Ending Balance': '76951.26'}, {'Month': 106, 'Beginning Balance': '76951.26', 'Payment': '1143.81', 'Principal': '919.37', 'Interest': '224.44', 'Ending Balance': '76031.89'}, {'Month': 107, 'Beginning Balance': '76031.89', 'Payment': '1143.81', 'Principal': '922.05', 'Interest': '221.76', 'Ending Balance': '75109.84'}, {'Month': 108, 'Beginning Balance': '75109.84', 'Payment': '1143.81', 'Principal': '924.74', 'Interest': '219.07', 'Ending Balance': '74185.10'}, {'Month': 109, 'Beginning Balance': '74185.10', 'Payment': '1143.81', 'Principal': '927.44', 'Interest': '216.37', 'Ending Balance': '73257.66'}, {'Month': 110, 'Beginning Balance': '73257.66', 'Payment': '1143.81', 'Principal': '930.14', 'Interest': '213.67', 'Ending Balance': '72327.52'}, {'Month': 111, 'Beginning Balance': '72327.52', 'Payment': '1143.81', 'Principal': '932.85', 'Interest': '210.96', 'Ending Balance': '71394.67'}, {'Month': 112, 'Beginning Balance': '71394.67', 'Payment': '1143.81', 'Principal': '935.58', 'Interest': '208.23', 'Ending Balance': '70459.09'}, {'Month': 113, 'Beginning Balance': '70459.09', 'Payment': '1143.81', 'Principal': '938.30', 'Interest': '205.51', 'Ending Balance': '69520.79'}, {'Month': 114, 'Beginning Balance': '69520.79', 'Payment': '1143.81', 'Principal': '941.04', 'Interest': '202.77', 'Ending Balance': '68579.75'}, {'Month': 115, 'Beginning Balance': '68579.75', 'Payment': '1143.81', 'Principal': '943.79', 'Interest': '200.02', 'Ending Balance': '67635.96'}, {'Month': 116, 'Beginning Balance': '67635.96', 'Payment': '1143.81', 'Principal': '946.54', 'Interest': '197.27', 'Ending Balance': '66689.42'}, {'Month': 117, 'Beginning Balance': '66689.42', 'Payment': '1143.81', 'Principal': '949.30', 'Interest': '194.51', 'Ending Balance': '65740.12'}, {'Month': 118, 'Beginning Balance': '65740.12', 'Payment': '1143.81', 'Principal': '952.07', 'Interest': '191.74', 'Ending Balance': '64788.05'}, {'Month': 119, 'Beginning Balance': '64788.05', 'Payment': '1143.81', 'Principal': '954.84', 'Interest': '188.97', 'Ending Balance': '63833.21'}, {'Month': 120, 'Beginning Balance': '63833.21', 'Payment': '1143.81', 'Principal': '957.63', 'Interest': '186.18', 'Ending Balance': '62875.58'}, {'Month': 121, 'Beginning Balance': '62875.58', 'Payment': '1143.81', 'Principal': '960.42', 'Interest': '183.39', 'Ending Balance': '61915.16'}, {'Month': 122, 'Beginning Balance': '61915.16', 'Payment': '1143.81', 'Principal': '963.22', 'Interest': '180.59', 'Ending Balance': '60951.94'}, {'Month': 123, 'Beginning Balance': '60951.94', 'Payment': '1143.81', 'Principal': '966.03', 'Interest': '177.78', 'Ending Balance': '59985.91'}, {'Month': 124, 'Beginning Balance': '59985.91', 'Payment': '1143.81', 'Principal': '968.85', 'Interest': '174.96', 'Ending Balance': '59017.06'}, {'Month': 125, 'Beginning Balance': '59017.06', 'Payment': '1143.81', 'Principal': '971.68', 'Interest': '172.13', 'Ending Balance': '58045.38'}, {'Month': 126, 'Beginning Balance': '58045.38', 'Payment': '1143.81', 'Principal': '974.51', 'Interest': '169.30', 'Ending Balance': '57070.87'}, {'Month': 127, 'Beginning Balance': '57070.87', 'Payment': '1143.81', 'Principal': '977.35', 'Interest': '166.46', 'Ending Balance': '56093.52'}, {'Month': 128, 'Beginning Balance': '56093.52', 'Payment': '1143.81', 'Principal': '980.20', 'Interest': '163.61', 'Ending Balance': '55113.32'}, {'Month': 129, 'Beginning Balance': '55113.32', 'Payment': '1143.81', 'Principal': '983.06', 'Interest': '160.75', 'Ending Balance': '54130.26'}, {'Month': 130, 'Beginning Balance': '54130.26', 'Payment': '1143.81', 'Principal': '985.93', 'Interest': '157.88', 'Ending Balance': '53144.33'}, {'Month': 131, 'Beginning Balance': '53144.33', 'Payment': '1143.81', 'Principal': '988.81', 'Interest': '155.00', 'Ending Balance': '52155.52'}, {'Month': 132, 'Beginning Balance': '52155.52', 'Payment': '1143.81', 'Principal': '991.69', 'Interest': '152.12', 'Ending Balance': '51163.83'}, {'Month': 133, 'Beginning Balance': '51163.83', 'Payment': '1143.81', 'Principal': '994.58', 'Interest': '149.23', 'Ending Balance': '50169.25'}, {'Month': 134, 'Beginning Balance': '50169.25', 'Payment': '1143.81', 'Principal': '997.48', 'Interest': '146.33', 'Ending Balance': '49171.77'}, {'Month': 135, 'Beginning Balance': '49171.77', 'Payment': '1143.81', 'Principal': '1000.39', 'Interest': '143.42', 'Ending Balance': '48171.38'}, {'Month': 136, 'Beginning Balance': '48171.38', 'Payment': '1143.81', 'Principal': '1003.31', 'Interest': '140.50', 'Ending Balance': '47168.07'}, {'Month': 137, 'Beginning Balance': '47168.07', 'Payment': '1143.81', 'Principal': '1006.24', 'Interest': '137.57', 'Ending Balance': '46161.83'}, {'Month': 138, 'Beginning Balance': '46161.83', 'Payment': '1143.81', 'Principal': '1009.17', 'Interest': '134.64', 'Ending Balance': '45152.66'}, {'Month': 139, 'Beginning Balance': '45152.66', 'Payment': '1143.81', 'Principal': '1012.11', 'Interest': '131.70', 'Ending Balance': '44140.55'}, {'Month': 140, 'Beginning Balance': '44140.55', 'Payment': '1143.81', 'Principal': '1015.07', 'Interest': '128.74', 'Ending Balance': '43125.48'}, {'Month': 141, 'Beginning Balance': '43125.48', 'Payment': '1143.81', 'Principal': '1018.03', 'Interest': '125.78', 'Ending Balance': '42107.45'}, {'Month': 142, 'Beginning Balance': '42107.45', 'Payment': '1143.81', 'Principal': '1021.00', 'Interest': '122.81', 'Ending Balance': '41086.45'}, {'Month': 143, 'Beginning Balance': '41086.45', 'Payment': '1143.81', 'Principal': '1023.97', 'Interest': '119.84', 'Ending Balance': '40062.48'}, {'Month': 144, 'Beginning Balance': '40062.48', 'Payment': '1143.81', 'Principal': '1026.96', 'Interest': '116.85', 'Ending Balance': '39035.52'}, {'Month': 145, 'Beginning Balance': '39035.52', 'Payment': '1143.81', 'Principal': '1029.96', 'Interest': '113.85', 'Ending Balance': '38005.56'}, {'Month': 146, 'Beginning Balance': '38005.56', 'Payment': '1143.81', 'Principal': '1032.96', 'Interest': '110.85', 'Ending Balance': '36972.60'}, {'Month': 147, 'Beginning Balance': '36972.60', 'Payment': '1143.81', 'Principal': '1035.97', 'Interest': '107.84', 'Ending Balance': '35936.63'}, {'Month': 148, 'Beginning Balance': '35936.63', 'Payment': '1143.81', 'Principal': '1038.99', 'Interest': '104.82', 'Ending Balance': '34897.64'}, {'Month': 149, 'Beginning Balance': '34897.64', 'Payment': '1143.81', 'Principal': '1042.03', 'Interest': '101.78', 'Ending Balance': '33855.61'}, {'Month': 150, 'Beginning Balance': '33855.61', 'Payment': '1143.81', 'Principal': '1045.06', 'Interest': '98.75', 'Ending Balance': '32810.55'}, {'Month': 151, 'Beginning Balance': '32810.55', 'Payment': '1143.81', 'Principal': '1048.11', 'Interest': '95.70', 'Ending Balance': '31762.44'}, {'Month': 152, 'Beginning Balance': '31762.44', 'Payment': '1143.81', 'Principal': '1051.17', 'Interest': '92.64', 'Ending Balance': '30711.27'}, {'Month': 153, 'Beginning Balance': '30711.27', 'Payment': '1143.81', 'Principal': '1054.24', 'Interest': '89.57', 'Ending Balance': '29657.03'}, {'Month': 154, 'Beginning Balance': '29657.03', 'Payment': '1143.81', 'Principal': '1057.31', 'Interest': '86.50', 'Ending Balance': '28599.72'}, {'Month': 155, 'Beginning Balance': '28599.72', 'Payment': '1143.81', 'Principal': '1060.39', 'Interest': '83.42', 'Ending Balance': '27539.33'}, {'Month': 156, 'Beginning Balance': '27539.33', 'Payment': '1143.81', 'Principal': '1063.49', 'Interest': '80.32', 'Ending Balance': '26475.84'}, {'Month': 157, 'Beginning Balance': '26475.84', 'Payment': '1143.81', 'Principal': '1066.59', 'Interest': '77.22', 'Ending Balance': '25409.25'}, {'Month': 158, 'Beginning Balance': '25409.25', 'Payment': '1143.81', 'Principal': '1069.70', 'Interest': '74.11', 'Ending Balance': '24339.55'}, {'Month': 159, 'Beginning Balance': '24339.55', 'Payment': '1143.81', 'Principal': '1072.82', 'Interest': '70.99', 'Ending Balance': '23266.73'}, {'Month': 160, 'Beginning Balance': '23266.73', 'Payment': '1143.81', 'Principal': '1075.95', 'Interest': '67.86', 'Ending Balance': '22190.78'}, {'Month': 161, 'Beginning Balance': '22190.78', 'Payment': '1143.81', 'Principal': '1079.09', 'Interest': '64.72', 'Ending Balance': '21111.69'}, {'Month': 162, 'Beginning Balance': '21111.69', 'Payment': '1143.81', 'Principal': '1082.23', 'Interest': '61.58', 'Ending Balance': '20029.46'}, {'Month': 163, 'Beginning Balance': '20029.46', 'Payment': '1143.81', 'Principal': '1085.39', 'Interest': '58.42', 'Ending Balance': '18944.07'}, {'Month': 164, 'Beginning Balance': '18944.07', 'Payment': '1143.81', 'Principal': '1088.56', 'Interest': '55.25', 'Ending Balance': '17855.51'}, {'Month': 165, 'Beginning Balance': '17855.51', 'Payment': '1143.81', 'Principal': '1091.73', 'Interest': '52.08', 'Ending Balance': '16763.78'}, {'Month': 166, 'Beginning Balance': '16763.78', 'Payment': '1143.81', 'Principal': '1094.92', 'Interest': '48.89', 'Ending Balance': '15668.86'}, {'Month': 167, 'Beginning Balance': '15668.86', 'Payment': '1143.81', 'Principal': '1098.11', 'Interest': '45.70', 'Ending Balance': '14570.75'}, {'Month': 168, 'Beginning Balance': '14570.75', 'Payment': '1143.81', 'Principal': '1101.31', 'Interest': '42.50', 'Ending Balance': '13469.44'}, {'Month': 169, 'Beginning Balance': '13469.44', 'Payment': '1143.81', 'Principal': '1104.52', 'Interest': '39.29', 'Ending Balance': '12364.92'}, {'Month': 170, 'Beginning Balance': '12364.92', 'Payment': '1143.81', 'Principal': '1107.75', 'Interest': '36.06', 'Ending Balance': '11257.17'}, {'Month': 171, 'Beginning Balance': '11257.17', 'Payment': '1143.81', 'Principal': '1110.98', 'Interest': '32.83', 'Ending Balance': '10146.19'}, {'Month': 172, 'Beginning Balance': '10146.19', 'Payment': '1143.81', 'Principal': '1114.22', 'Interest': '29.59', 'Ending Balance': '9031.97'}, {'Month': 173, 'Beginning Balance': '9031.97', 'Payment': '1143.81', 'Principal': '1117.47', 'Interest': '26.34', 'Ending Balance': '7914.50'}, {'Month': 174, 'Beginning Balance': '7914.50', 'Payment': '1143.81', 'Principal': '1120.73', 'Interest': '23.08', 'Ending Balance': '6793.77'}, {'Month': 175, 'Beginning Balance': '6793.77', 'Payment': '1143.81', 'Principal': '1123.99', 'Interest': '19.82', 'Ending Balance': '5669.78'}, {'Month': 176, 'Beginning Balance': '5669.78', 'Payment': '1143.81', 'Principal': '1127.27', 'Interest': '16.54', 'Ending Balance': '4542.51'}, {'Month': 177, 'Beginning Balance': '4542.51', 'Payment': '1143.81', 'Principal': '1130.56', 'Interest': '13.25', 'Ending Balance': '3411.95'}, {'Month': 178, 'Beginning Balance': '3411.95', 'Payment': '1143.81', 'Principal': '1133.86', 'Interest': '9.95', 'Ending Balance': '2278.09'}, {'Month': 179, 'Beginning Balance': '2278.09', 'Payment': '1143.81', 'Principal': '1137.17', 'Interest': '6.64', 'Ending Balance': '1140.92'}, {'Month': 180, 'Beginning Balance': '1140.92', 'Payment': '1143.81', 'Principal': '1140.48', 'Interest': '3.33', 'Ending Balance': '0.44'}]}\n"
     ]
    }
   ],
   "source": [
    "# Test Monthly Payment - should be 1143.81\n",
    "print(create_loan_payment_data(180, 160000, 3.5))"
   ]
  },
  {
   "cell_type": "code",
   "execution_count": null,
   "id": "3b97d9f5-7d0d-42d3-ba50-a99153bbf3d0",
   "metadata": {},
   "outputs": [],
   "source": []
  },
  {
   "cell_type": "code",
   "execution_count": null,
   "id": "a3d29265-e420-48aa-bd30-ea64f86bafd4",
   "metadata": {},
   "outputs": [],
   "source": []
  }
 ],
 "metadata": {
  "kernelspec": {
   "display_name": "Python 3 (ipykernel)",
   "language": "python",
   "name": "python3"
  },
  "language_info": {
   "codemirror_mode": {
    "name": "ipython",
    "version": 3
   },
   "file_extension": ".py",
   "mimetype": "text/x-python",
   "name": "python",
   "nbconvert_exporter": "python",
   "pygments_lexer": "ipython3",
   "version": "3.11.2"
  }
 },
 "nbformat": 4,
 "nbformat_minor": 5
}
